{
  "nbformat": 4,
  "nbformat_minor": 0,
  "metadata": {
    "colab": {
      "provenance": [],
      "toc_visible": true,
      "machine_shape": "hm",
      "gpuType": "V100"
    },
    "kernelspec": {
      "name": "python3",
      "display_name": "Python 3"
    },
    "language_info": {
      "name": "python"
    },
    "accelerator": "GPU"
  },
  "cells": [
    {
      "cell_type": "code",
      "execution_count": null,
      "metadata": {
        "colab": {
          "base_uri": "https://localhost:8080/"
        },
        "id": "v6Xn0WaEdQR8",
        "outputId": "24c62840-b9e1-4d37-cc0f-0561ba1d4956"
      },
      "outputs": [
        {
          "output_type": "stream",
          "name": "stdout",
          "text": [
            "Mounted at /content/drive\n"
          ]
        }
      ],
      "source": [
        "from google.colab import drive\n",
        "drive.mount('/content/drive')"
      ]
    },
    {
      "cell_type": "code",
      "source": [
        "#需要的套件\n",
        "import pandas as pd\n",
        "import numpy as np\n",
        "import os\n",
        "import sys\n",
        "import seaborn as sns\n",
        "import matplotlib.pyplot as plt\n",
        "from collections import Counter\n",
        "import math\n",
        "import matplotlib\n",
        "import datetime\n",
        "## scikit learn part\n",
        "from sklearn.model_selection import train_test_split\n",
        "from sklearn.model_selection import StratifiedKFold\n",
        "from imblearn.over_sampling import SMOTE, ADASYN, BorderlineSMOTE\n",
        "from imblearn.combine import SMOTEENN\n",
        "from sklearn import preprocessing\n",
        "from scipy.stats.mstats import winsorize\n",
        "from imblearn.under_sampling import RandomUnderSampler\n",
        "from imblearn.over_sampling import SVMSMOTE\n",
        "from imblearn.under_sampling import ClusterCentroids\n",
        "## scikit learn matrics\n",
        "from sklearn import metrics\n",
        "import xgboost as xgb\n",
        "import lightgbm as lgb\n",
        "## ml part\n",
        "from sklearn.linear_model import LogisticRegression\n",
        "from sklearn.preprocessing import MinMaxScaler\n",
        "from sklearn.preprocessing import StandardScaler\n",
        "from IPython.display import display\n",
        "import pandas as pd\n"
      ],
      "metadata": {
        "id": "G3Rv4EMQeq2l"
      },
      "execution_count": null,
      "outputs": []
    },
    {
      "cell_type": "code",
      "source": [
        "X = pd.read_csv('/content/drive/My Drive/FINTECH Final/train_ver_final.csv')\n",
        "Xtest = pd.read_csv('/content/drive/My Drive/FINTECH Final/test_ver_final.csv')\n",
        "df = pd.read_csv('/content/drive/My Drive/FINTECH Final/dataset_2nd/private_1_processed.csv')\n",
        "test_answer = pd.read_csv('/content/drive/My Drive/FINTECH Final/dataset_2nd/public.csv') # predict answer"
      ],
      "metadata": {
        "id": "LVwuEFfwerVC"
      },
      "execution_count": null,
      "outputs": []
    },
    {
      "cell_type": "code",
      "source": [
        "from sklearn.model_selection import train_test_split\n",
        "from xgboost.sklearn import XGBClassifier\n",
        "from sklearn.model_selection import GridSearchCV\n",
        "from sklearn.model_selection import cross_validate\n",
        "\n"
      ],
      "metadata": {
        "id": "In3qt8L9iveI"
      },
      "execution_count": null,
      "outputs": []
    },
    {
      "cell_type": "code",
      "source": [
        "y = pd.read_csv('/content/drive/My Drive/FINTECH Final/ylabel.csv')\n",
        "newy = pd.read_csv('/content/drive/My Drive/FINTECH Final/dataset_2nd/public.csv')\n",
        "print(y.shape)\n",
        "print(newy.shape)\n",
        "newy = newy['label'].to_frame()\n",
        "newy.rename(columns={0: 'label'})\n",
        "# print(y.head(5))\n",
        "print(newy.head(5))"
      ],
      "metadata": {
        "colab": {
          "base_uri": "https://localhost:8080/"
        },
        "id": "U7g7cZbz7EmQ",
        "outputId": "80f64a49-326a-4a87-e53e-5a11108c5a6e"
      },
      "execution_count": null,
      "outputs": [
        {
          "output_type": "stream",
          "name": "stdout",
          "text": [
            "(8688526, 1)\n",
            "(609040, 26)\n",
            "   label\n",
            "0      0\n",
            "1      0\n",
            "2      0\n",
            "3      0\n",
            "4      0\n",
            "(8688526, 1)\n"
          ]
        }
      ]
    },
    {
      "cell_type": "code",
      "source": [
        "y = pd.concat([y, newy])\n",
        "print(y.shape)\n",
        "print(y.head(5))"
      ],
      "metadata": {
        "colab": {
          "base_uri": "https://localhost:8080/"
        },
        "id": "Yg_Yxjng9cXf",
        "outputId": "94ddddc0-30e7-40ac-b750-ccef2f8eed18"
      },
      "execution_count": null,
      "outputs": [
        {
          "output_type": "stream",
          "name": "stdout",
          "text": [
            "(9297566, 1)\n",
            "   label\n",
            "0      0\n",
            "1      0\n",
            "2      0\n",
            "3      0\n",
            "4      0\n"
          ]
        }
      ]
    },
    {
      "cell_type": "code",
      "source": [
        "print(X.shape)\n",
        "print(Xtest.shape)\n",
        "print(df.shape)"
      ],
      "metadata": {
        "colab": {
          "base_uri": "https://localhost:8080/"
        },
        "id": "usPp64SQ6q6M",
        "outputId": "259d9673-d0a5-4a28-e540-6a57a0071c25"
      },
      "execution_count": null,
      "outputs": [
        {
          "output_type": "stream",
          "name": "stdout",
          "text": [
            "(9297566, 48)\n",
            "(754139, 48)\n",
            "(754139, 25)\n"
          ]
        }
      ]
    },
    {
      "cell_type": "code",
      "source": [
        "y = df.pop('label')\n",
        "X = df.drop(['txkey'], axis=1)\n",
        "id = Xtest['txkey']\n",
        "Xtest = Xtest.drop(['txkey'], axis=1)"
      ],
      "metadata": {
        "id": "_F620v776y2o"
      },
      "execution_count": null,
      "outputs": []
    },
    {
      "cell_type": "code",
      "source": [
        "parameters = {'max_depth':[5],\n",
        "        #'max_delta_step': [0, 0.6, 1],\n",
        "        #'n_estimators': [1000, 1500, 2000]\n",
        "        # 'colsample_bytree': [0.8, 0.9],\n",
        "              #'reg_alpha': [0,  0.5,  1],\n",
        "              #'reg_lambda': [0.2,  0.6,  1],\n",
        "              #'scale_pos_weight': [0.2, 0.6, 1]\n",
        "\n",
        "}"
      ],
      "metadata": {
        "id": "WDIRpX5NlbmM"
      },
      "execution_count": null,
      "outputs": []
    },
    {
      "cell_type": "code",
      "source": [
        "from sklearn.metrics import make_scorer, f1_score\n",
        "xlf = xgb.XGBClassifier(\n",
        "      device=\"cuda\",\n",
        "\t\t\tlearning_rate=0.05,\n",
        "\t\t\tmax_depth=10,\n",
        "\t\t\tn_estimators=2000,\n",
        "\t\t\tverbosity=0,\n",
        "\t\t\tobjective='binary:logistic',\n",
        "\t\t\tnthread=-1,\n",
        "\t\t\tgamma=0.1,\n",
        "\t\t\tmin_child_weight=0,\n",
        "\t\t\tsubsample=0.9,\n",
        "\t\t\tcolsample_bytree=0.85,\n",
        "\t\t\tcolsample_bylevel=1,\n",
        "\t\t\teval_metric=f1_score,\n",
        "\t\t\ttree_method=\"hist\",\n",
        "\t\t\tseed=523,\n",
        "      )"
      ],
      "metadata": {
        "id": "XYP8PVmdleyU"
      },
      "execution_count": null,
      "outputs": []
    },
    {
      "cell_type": "code",
      "source": [
        "from sklearn.metrics import make_scorer, f1_score\n",
        "\n",
        "f1_scorer = make_scorer(f1_score)\n",
        "gsearch = GridSearchCV(xlf, param_grid=parameters, scoring=f1_scorer, cv=5, verbose=3)\n",
        "gsearch.fit(X, y)\n",
        "\n",
        "print(\"Best score: %0.5f\" % gsearch.best_score_)\n",
        "print(\"Best parameters set:\")\n",
        "best_parameters = gsearch.best_estimator_.get_params()\n",
        "for param_name in sorted(parameters.keys()):\n",
        "    print(\"\\t%s: %r\" % (param_name, best_parameters[param_name]))"
      ],
      "metadata": {
        "id": "aP-_0523mw35"
      },
      "execution_count": null,
      "outputs": []
    },
    {
      "cell_type": "code",
      "source": [
        "# !pip install joblib\n",
        "from sklearn.metrics import f1_score\n",
        "\n",
        "X_train, X_val, y_train, y_val = train_test_split(X, y, test_size=0.2, random_state=42)\n",
        "\n",
        "# xlf = xgb.XGBClassifier(\n",
        "#       device=\"cuda\",\n",
        "# \t\t\tlearning_rate=0.001,\n",
        "#       max_depth=10,\n",
        "# \t\t\tn_estimators=2000,\n",
        "# \t\t\tverbosity=3,\n",
        "# \t\t\tobjective='binary:logistic',\n",
        "# \t\t\tnthread=-1,\n",
        "# \t\t\tgamma=0,\n",
        "# \t\t\tmin_child_weight=0,\n",
        "# \t\t\tsubsample=0.85,\n",
        "# \t\t\tcolsample_bytree=0.7,\n",
        "# \t\t\tcolsample_bylevel=1,\n",
        "# \t\t\teval_metric=f1_score,\n",
        "# \t\t\tseed=523,\n",
        "# )\n",
        "\n",
        "xlf.fit(X_train, y_train)\n",
        "\n",
        "# Make predictions\n",
        "y_pred = xlf.predict(X_val)\n",
        "\n",
        "# Evaluate the model\n",
        "accuracy = f1_score(y_val, y_pred)\n",
        "print(f'f1 score on validation: {accuracy:.5f}')\n"
      ],
      "metadata": {
        "colab": {
          "base_uri": "https://localhost:8080/"
        },
        "id": "3cxuw-tauIID",
        "outputId": "33b270cf-d6e9-4d7f-e981-133e627cd5e2"
      },
      "execution_count": null,
      "outputs": [
        {
          "output_type": "stream",
          "name": "stdout",
          "text": [
            "f1 score on validation: 0.84888\n"
          ]
        }
      ]
    },
    {
      "cell_type": "code",
      "source": [
        "#test = pd.read_csv('/content/drive/My Drive/FINTECH Final/test.csv')\n",
        "y_pred = xlf.predict(Xtest)\n",
        "id = df['txkey']\n",
        "df = {\"txkey\":id, \"label\": y_pred}\n",
        "df = pd.DataFrame(df)\n",
        "# merged_df = pd.merge(df, test_answer[[\"txkey\", \"label\"]], on='txkey', how='left')\n",
        "\n"
      ],
      "metadata": {
        "id": "bTRTd8go-NgM",
        "colab": {
          "base_uri": "https://localhost:8080/"
        },
        "outputId": "a1f21def-d50e-4a82-abcb-64286944d04d"
      },
      "execution_count": null,
      "outputs": [
        {
          "output_type": "stream",
          "name": "stdout",
          "text": [
            "                                               txkey  label\n",
            "0  a069fe3514177af67c02eb9f0f49c3f44a59fbc3299e74...      0\n",
            "1  e7a54bf48f9483847b4632512c27a5d0793c2927a12af1...      0\n",
            "2  90cbca23c88d66ccd7de27ee2f658a8ba1dbcbd9908889...      0\n",
            "3  1ef5adcad1d3ad7cd6cbb4bc691fe1805900d44f791a56...      0\n",
            "4  10f0d86f50e37ba7de0ac518d09c0331ce3a3f092e1649...      0\n"
          ]
        }
      ]
    },
    {
      "cell_type": "code",
      "source": [
        "print(df.shape)\n",
        "df.to_csv(\"/content/drive/My Drive/FINTECH Final/XGboost_private.csv\", index=False)\n",
        "print('Export Succeeded')"
      ],
      "metadata": {
        "colab": {
          "base_uri": "https://localhost:8080/"
        },
        "id": "j0KcBxdyAjg9",
        "outputId": "41f038d1-36e4-4d65-95e7-4d1e7eaa3538"
      },
      "execution_count": null,
      "outputs": [
        {
          "output_type": "stream",
          "name": "stdout",
          "text": [
            "(754139, 2)\n",
            "Export Succeeded\n"
          ]
        }
      ]
    },
    {
      "cell_type": "code",
      "source": [
        "merged_df = merged_df.rename(columns={'label_x': 'predict', 'label_y': 'real_label'})\n",
        "merged_df.head(5)"
      ],
      "metadata": {
        "colab": {
          "base_uri": "https://localhost:8080/",
          "height": 206
        },
        "id": "LT6MnsPTRtV6",
        "outputId": "bfc164c2-4306-4521-8b33-5f3b7251d586"
      },
      "execution_count": null,
      "outputs": [
        {
          "output_type": "execute_result",
          "data": {
            "text/plain": [
              "                                               txkey  predict  real_label\n",
              "0  a2c1209018e4e52e04f6fabb48f05f1b8bc09dc838ff6c...        0           0\n",
              "1  16c4880500059e01553789be11bbb50753b7acaae7b95b...        0           0\n",
              "2  623c56be3bee87724e3d119c271d9ed098eeda84233183...        0           0\n",
              "3  250da12187059cf6e3a3066656a2919d08ceb8207efd55...        0           0\n",
              "4  4b268e0da036f44cbbb056ddfac6a28ea336d9cf299843...        0           0"
            ],
            "text/html": [
              "\n",
              "  <div id=\"df-884c3ed0-5eab-4e77-804f-0a3a19208b70\" class=\"colab-df-container\">\n",
              "    <div>\n",
              "<style scoped>\n",
              "    .dataframe tbody tr th:only-of-type {\n",
              "        vertical-align: middle;\n",
              "    }\n",
              "\n",
              "    .dataframe tbody tr th {\n",
              "        vertical-align: top;\n",
              "    }\n",
              "\n",
              "    .dataframe thead th {\n",
              "        text-align: right;\n",
              "    }\n",
              "</style>\n",
              "<table border=\"1\" class=\"dataframe\">\n",
              "  <thead>\n",
              "    <tr style=\"text-align: right;\">\n",
              "      <th></th>\n",
              "      <th>txkey</th>\n",
              "      <th>predict</th>\n",
              "      <th>real_label</th>\n",
              "    </tr>\n",
              "  </thead>\n",
              "  <tbody>\n",
              "    <tr>\n",
              "      <th>0</th>\n",
              "      <td>a2c1209018e4e52e04f6fabb48f05f1b8bc09dc838ff6c...</td>\n",
              "      <td>0</td>\n",
              "      <td>0</td>\n",
              "    </tr>\n",
              "    <tr>\n",
              "      <th>1</th>\n",
              "      <td>16c4880500059e01553789be11bbb50753b7acaae7b95b...</td>\n",
              "      <td>0</td>\n",
              "      <td>0</td>\n",
              "    </tr>\n",
              "    <tr>\n",
              "      <th>2</th>\n",
              "      <td>623c56be3bee87724e3d119c271d9ed098eeda84233183...</td>\n",
              "      <td>0</td>\n",
              "      <td>0</td>\n",
              "    </tr>\n",
              "    <tr>\n",
              "      <th>3</th>\n",
              "      <td>250da12187059cf6e3a3066656a2919d08ceb8207efd55...</td>\n",
              "      <td>0</td>\n",
              "      <td>0</td>\n",
              "    </tr>\n",
              "    <tr>\n",
              "      <th>4</th>\n",
              "      <td>4b268e0da036f44cbbb056ddfac6a28ea336d9cf299843...</td>\n",
              "      <td>0</td>\n",
              "      <td>0</td>\n",
              "    </tr>\n",
              "  </tbody>\n",
              "</table>\n",
              "</div>\n",
              "    <div class=\"colab-df-buttons\">\n",
              "\n",
              "  <div class=\"colab-df-container\">\n",
              "    <button class=\"colab-df-convert\" onclick=\"convertToInteractive('df-884c3ed0-5eab-4e77-804f-0a3a19208b70')\"\n",
              "            title=\"Convert this dataframe to an interactive table.\"\n",
              "            style=\"display:none;\">\n",
              "\n",
              "  <svg xmlns=\"http://www.w3.org/2000/svg\" height=\"24px\" viewBox=\"0 -960 960 960\">\n",
              "    <path d=\"M120-120v-720h720v720H120Zm60-500h600v-160H180v160Zm220 220h160v-160H400v160Zm0 220h160v-160H400v160ZM180-400h160v-160H180v160Zm440 0h160v-160H620v160ZM180-180h160v-160H180v160Zm440 0h160v-160H620v160Z\"/>\n",
              "  </svg>\n",
              "    </button>\n",
              "\n",
              "  <style>\n",
              "    .colab-df-container {\n",
              "      display:flex;\n",
              "      gap: 12px;\n",
              "    }\n",
              "\n",
              "    .colab-df-convert {\n",
              "      background-color: #E8F0FE;\n",
              "      border: none;\n",
              "      border-radius: 50%;\n",
              "      cursor: pointer;\n",
              "      display: none;\n",
              "      fill: #1967D2;\n",
              "      height: 32px;\n",
              "      padding: 0 0 0 0;\n",
              "      width: 32px;\n",
              "    }\n",
              "\n",
              "    .colab-df-convert:hover {\n",
              "      background-color: #E2EBFA;\n",
              "      box-shadow: 0px 1px 2px rgba(60, 64, 67, 0.3), 0px 1px 3px 1px rgba(60, 64, 67, 0.15);\n",
              "      fill: #174EA6;\n",
              "    }\n",
              "\n",
              "    .colab-df-buttons div {\n",
              "      margin-bottom: 4px;\n",
              "    }\n",
              "\n",
              "    [theme=dark] .colab-df-convert {\n",
              "      background-color: #3B4455;\n",
              "      fill: #D2E3FC;\n",
              "    }\n",
              "\n",
              "    [theme=dark] .colab-df-convert:hover {\n",
              "      background-color: #434B5C;\n",
              "      box-shadow: 0px 1px 3px 1px rgba(0, 0, 0, 0.15);\n",
              "      filter: drop-shadow(0px 1px 2px rgba(0, 0, 0, 0.3));\n",
              "      fill: #FFFFFF;\n",
              "    }\n",
              "  </style>\n",
              "\n",
              "    <script>\n",
              "      const buttonEl =\n",
              "        document.querySelector('#df-884c3ed0-5eab-4e77-804f-0a3a19208b70 button.colab-df-convert');\n",
              "      buttonEl.style.display =\n",
              "        google.colab.kernel.accessAllowed ? 'block' : 'none';\n",
              "\n",
              "      async function convertToInteractive(key) {\n",
              "        const element = document.querySelector('#df-884c3ed0-5eab-4e77-804f-0a3a19208b70');\n",
              "        const dataTable =\n",
              "          await google.colab.kernel.invokeFunction('convertToInteractive',\n",
              "                                                    [key], {});\n",
              "        if (!dataTable) return;\n",
              "\n",
              "        const docLinkHtml = 'Like what you see? Visit the ' +\n",
              "          '<a target=\"_blank\" href=https://colab.research.google.com/notebooks/data_table.ipynb>data table notebook</a>'\n",
              "          + ' to learn more about interactive tables.';\n",
              "        element.innerHTML = '';\n",
              "        dataTable['output_type'] = 'display_data';\n",
              "        await google.colab.output.renderOutput(dataTable, element);\n",
              "        const docLink = document.createElement('div');\n",
              "        docLink.innerHTML = docLinkHtml;\n",
              "        element.appendChild(docLink);\n",
              "      }\n",
              "    </script>\n",
              "  </div>\n",
              "\n",
              "\n",
              "<div id=\"df-e252f0c1-3602-40f1-bc6d-d6b3e300b6ac\">\n",
              "  <button class=\"colab-df-quickchart\" onclick=\"quickchart('df-e252f0c1-3602-40f1-bc6d-d6b3e300b6ac')\"\n",
              "            title=\"Suggest charts\"\n",
              "            style=\"display:none;\">\n",
              "\n",
              "<svg xmlns=\"http://www.w3.org/2000/svg\" height=\"24px\"viewBox=\"0 0 24 24\"\n",
              "     width=\"24px\">\n",
              "    <g>\n",
              "        <path d=\"M19 3H5c-1.1 0-2 .9-2 2v14c0 1.1.9 2 2 2h14c1.1 0 2-.9 2-2V5c0-1.1-.9-2-2-2zM9 17H7v-7h2v7zm4 0h-2V7h2v10zm4 0h-2v-4h2v4z\"/>\n",
              "    </g>\n",
              "</svg>\n",
              "  </button>\n",
              "\n",
              "<style>\n",
              "  .colab-df-quickchart {\n",
              "      --bg-color: #E8F0FE;\n",
              "      --fill-color: #1967D2;\n",
              "      --hover-bg-color: #E2EBFA;\n",
              "      --hover-fill-color: #174EA6;\n",
              "      --disabled-fill-color: #AAA;\n",
              "      --disabled-bg-color: #DDD;\n",
              "  }\n",
              "\n",
              "  [theme=dark] .colab-df-quickchart {\n",
              "      --bg-color: #3B4455;\n",
              "      --fill-color: #D2E3FC;\n",
              "      --hover-bg-color: #434B5C;\n",
              "      --hover-fill-color: #FFFFFF;\n",
              "      --disabled-bg-color: #3B4455;\n",
              "      --disabled-fill-color: #666;\n",
              "  }\n",
              "\n",
              "  .colab-df-quickchart {\n",
              "    background-color: var(--bg-color);\n",
              "    border: none;\n",
              "    border-radius: 50%;\n",
              "    cursor: pointer;\n",
              "    display: none;\n",
              "    fill: var(--fill-color);\n",
              "    height: 32px;\n",
              "    padding: 0;\n",
              "    width: 32px;\n",
              "  }\n",
              "\n",
              "  .colab-df-quickchart:hover {\n",
              "    background-color: var(--hover-bg-color);\n",
              "    box-shadow: 0 1px 2px rgba(60, 64, 67, 0.3), 0 1px 3px 1px rgba(60, 64, 67, 0.15);\n",
              "    fill: var(--button-hover-fill-color);\n",
              "  }\n",
              "\n",
              "  .colab-df-quickchart-complete:disabled,\n",
              "  .colab-df-quickchart-complete:disabled:hover {\n",
              "    background-color: var(--disabled-bg-color);\n",
              "    fill: var(--disabled-fill-color);\n",
              "    box-shadow: none;\n",
              "  }\n",
              "\n",
              "  .colab-df-spinner {\n",
              "    border: 2px solid var(--fill-color);\n",
              "    border-color: transparent;\n",
              "    border-bottom-color: var(--fill-color);\n",
              "    animation:\n",
              "      spin 1s steps(1) infinite;\n",
              "  }\n",
              "\n",
              "  @keyframes spin {\n",
              "    0% {\n",
              "      border-color: transparent;\n",
              "      border-bottom-color: var(--fill-color);\n",
              "      border-left-color: var(--fill-color);\n",
              "    }\n",
              "    20% {\n",
              "      border-color: transparent;\n",
              "      border-left-color: var(--fill-color);\n",
              "      border-top-color: var(--fill-color);\n",
              "    }\n",
              "    30% {\n",
              "      border-color: transparent;\n",
              "      border-left-color: var(--fill-color);\n",
              "      border-top-color: var(--fill-color);\n",
              "      border-right-color: var(--fill-color);\n",
              "    }\n",
              "    40% {\n",
              "      border-color: transparent;\n",
              "      border-right-color: var(--fill-color);\n",
              "      border-top-color: var(--fill-color);\n",
              "    }\n",
              "    60% {\n",
              "      border-color: transparent;\n",
              "      border-right-color: var(--fill-color);\n",
              "    }\n",
              "    80% {\n",
              "      border-color: transparent;\n",
              "      border-right-color: var(--fill-color);\n",
              "      border-bottom-color: var(--fill-color);\n",
              "    }\n",
              "    90% {\n",
              "      border-color: transparent;\n",
              "      border-bottom-color: var(--fill-color);\n",
              "    }\n",
              "  }\n",
              "</style>\n",
              "\n",
              "  <script>\n",
              "    async function quickchart(key) {\n",
              "      const quickchartButtonEl =\n",
              "        document.querySelector('#' + key + ' button');\n",
              "      quickchartButtonEl.disabled = true;  // To prevent multiple clicks.\n",
              "      quickchartButtonEl.classList.add('colab-df-spinner');\n",
              "      try {\n",
              "        const charts = await google.colab.kernel.invokeFunction(\n",
              "            'suggestCharts', [key], {});\n",
              "      } catch (error) {\n",
              "        console.error('Error during call to suggestCharts:', error);\n",
              "      }\n",
              "      quickchartButtonEl.classList.remove('colab-df-spinner');\n",
              "      quickchartButtonEl.classList.add('colab-df-quickchart-complete');\n",
              "    }\n",
              "    (() => {\n",
              "      let quickchartButtonEl =\n",
              "        document.querySelector('#df-e252f0c1-3602-40f1-bc6d-d6b3e300b6ac button');\n",
              "      quickchartButtonEl.style.display =\n",
              "        google.colab.kernel.accessAllowed ? 'block' : 'none';\n",
              "    })();\n",
              "  </script>\n",
              "</div>\n",
              "    </div>\n",
              "  </div>\n"
            ]
          },
          "metadata": {},
          "execution_count": 18
        }
      ]
    },
    {
      "cell_type": "code",
      "source": [
        "print(\"f1 score on public =\")\n",
        "f1_score(merged_df[\"predict\"], merged_df[\"real_label\"])"
      ],
      "metadata": {
        "colab": {
          "base_uri": "https://localhost:8080/"
        },
        "id": "S3TkIZ3rRi_j",
        "outputId": "6550f93d-eab9-49cc-d26b-7e590da37989"
      },
      "execution_count": null,
      "outputs": [
        {
          "output_type": "stream",
          "name": "stdout",
          "text": [
            "f1 score on public =\n"
          ]
        },
        {
          "output_type": "execute_result",
          "data": {
            "text/plain": [
              "0.6412257877999422"
            ]
          },
          "metadata": {},
          "execution_count": 19
        }
      ]
    },
    {
      "cell_type": "code",
      "source": [
        "# test = pd.read_csv('/content/drive/My Drive/FINTECH Final/test.csv')\n",
        "y_pred = xlf.predict(Xtest)\n",
        "id = test['txkey']\n",
        "df = {\"txkey\":id, \"label\": y_pred}\n",
        "df = pd.DataFrame(df)\n",
        "df.to_csv(\"/content/drive/My Drive/FINTECH Final/XGboost(2).csv\", index=False)\n",
        "print('Export Succeeded')"
      ],
      "metadata": {
        "colab": {
          "base_uri": "https://localhost:8080/"
        },
        "id": "Q79dw01R7A79",
        "outputId": "7382f1c6-26b1-45e7-b5e2-40d704310af2"
      },
      "execution_count": null,
      "outputs": [
        {
          "output_type": "stream",
          "name": "stdout",
          "text": [
            "Export Succeeded\n"
          ]
        }
      ]
    },
    {
      "cell_type": "code",
      "source": [
        "import joblib\n",
        "model_filename = '/content/drive/My Drive/FINTECH Final/XGboost.joblib'\n",
        "joblib.dump(xlf, model_filename)\n",
        "print(f'Model saved to {model_filename}')"
      ],
      "metadata": {
        "colab": {
          "base_uri": "https://localhost:8080/"
        },
        "id": "3IOkG655BYhJ",
        "outputId": "ba63392a-ae89-4e8f-917d-74173567b1d9"
      },
      "execution_count": null,
      "outputs": [
        {
          "output_type": "stream",
          "name": "stdout",
          "text": [
            "Model saved to /content/drive/My Drive/FINTECH Final/XGboost.joblib\n"
          ]
        }
      ]
    },
    {
      "cell_type": "code",
      "source": [
        "Xtest = pd.read_csv('/content/drive/My Drive/FINTECH Final/test_ver3.csv')\n",
        "test = pd.read_csv('/content/drive/My Drive/FINTECH Final/test.csv')\n",
        "id = test['txkey']\n",
        "y_pred = xlf.predict(Xtest)\n",
        "dfpublic = {\"txkey\":id, \"label\": y_pred}\n",
        "dfpublic = pd.DataFrame(dfpublic)\n"
      ],
      "metadata": {
        "id": "Fnd78eLLB8W-"
      },
      "execution_count": null,
      "outputs": []
    },
    {
      "cell_type": "code",
      "source": [
        "print(df.shape)\n",
        "print(dfpublic.shape)"
      ],
      "metadata": {
        "colab": {
          "base_uri": "https://localhost:8080/"
        },
        "id": "ku4K9LcRCXF1",
        "outputId": "d1a50cb6-4f78-4742-9cb8-12fb0f15268c"
      },
      "execution_count": null,
      "outputs": [
        {
          "output_type": "stream",
          "name": "stdout",
          "text": [
            "(754139, 2)\n",
            "(600182, 2)\n"
          ]
        }
      ]
    },
    {
      "cell_type": "code",
      "source": [
        "finaldf = pd.concat([dfpublic, df])\n",
        "finaldf.shape"
      ],
      "metadata": {
        "colab": {
          "base_uri": "https://localhost:8080/"
        },
        "id": "puHqNDbXCy6A",
        "outputId": "dbde906b-2bac-4512-fb5a-ed1ba925153e"
      },
      "execution_count": null,
      "outputs": [
        {
          "output_type": "execute_result",
          "data": {
            "text/plain": [
              "(1354321, 2)"
            ]
          },
          "metadata": {},
          "execution_count": 45
        }
      ]
    },
    {
      "cell_type": "code",
      "source": [
        "finaldf.to_csv(\"/content/drive/My Drive/FINTECH Final/XGboost_final.csv\", index=False)"
      ],
      "metadata": {
        "id": "X7MGiPUbDA2N"
      },
      "execution_count": null,
      "outputs": []
    }
  ]
}